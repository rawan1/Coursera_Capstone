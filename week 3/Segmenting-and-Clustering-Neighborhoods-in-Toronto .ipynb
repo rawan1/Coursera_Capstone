{
 "cells": [
  {
   "cell_type": "code",
   "execution_count": 1,
   "metadata": {},
   "outputs": [],
   "source": [
    "import pandas as pd \n",
    "import json \n",
    "import requests \n",
    "from pandas.io.json import json_normalize \n",
    "import matplotlib.cm as cm\n",
    "import matplotlib.colors as colors \n",
    "from sklearn.cluster import KMeans\n",
    "from bs4 import BeautifulSoup\n",
    "from geopy.geocoders import Nominatim "
   ]
  },
  {
   "cell_type": "markdown",
   "metadata": {},
   "source": [
    "Scrapping the data from wikipedia"
   ]
  },
  {
   "cell_type": "code",
   "execution_count": 2,
   "metadata": {},
   "outputs": [],
   "source": [
    "data = requests.get('https://en.wikipedia.org/wiki/List_of_postal_codes_of_Canada:_M').text\n",
    "soup = BeautifulSoup(data, 'html.parser')"
   ]
  },
  {
   "cell_type": "markdown",
   "metadata": {},
   "source": [
    "obtain the data that is in the table of postal codes "
   ]
  },
  {
   "cell_type": "code",
   "execution_count": 3,
   "metadata": {},
   "outputs": [],
   "source": [
    "postalCodeList = []\n",
    "boroughList = []\n",
    "neighborhoodList = []\n",
    "soup.find('table').find_all('tr')\n",
    "\n",
    "# find all the rows of the table\n",
    "soup.find('table').find_all('tr')\n",
    "\n",
    "# for each row of the table, find all the table data\n",
    "for row in soup.find('table').find_all('tr'):\n",
    "    cells = row.find_all('td')"
   ]
  },
  {
   "cell_type": "code",
   "execution_count": 4,
   "metadata": {},
   "outputs": [],
   "source": [
    "for row in soup.find('table').find_all('tr'):\n",
    "    cells = row.find_all('td')\n",
    "    if(len(cells) > 0):\n",
    "        postalCodeList.append(cells[0].text.rstrip('\\n'))\n",
    "        boroughList.append(cells[1].text.rstrip('\\n'))\n",
    "        neighborhoodList.append(cells[2].text.rstrip('\\n'))"
   ]
  },
  {
   "cell_type": "markdown",
   "metadata": {},
   "source": [
    "transform the data into a pandas dataframe"
   ]
  },
  {
   "cell_type": "code",
   "execution_count": 5,
   "metadata": {},
   "outputs": [
    {
     "data": {
      "text/html": [
       "<div>\n",
       "<style scoped>\n",
       "    .dataframe tbody tr th:only-of-type {\n",
       "        vertical-align: middle;\n",
       "    }\n",
       "\n",
       "    .dataframe tbody tr th {\n",
       "        vertical-align: top;\n",
       "    }\n",
       "\n",
       "    .dataframe thead th {\n",
       "        text-align: right;\n",
       "    }\n",
       "</style>\n",
       "<table border=\"1\" class=\"dataframe\">\n",
       "  <thead>\n",
       "    <tr style=\"text-align: right;\">\n",
       "      <th></th>\n",
       "      <th>PostalCode</th>\n",
       "      <th>Borough</th>\n",
       "      <th>Neighborhood</th>\n",
       "    </tr>\n",
       "  </thead>\n",
       "  <tbody>\n",
       "    <tr>\n",
       "      <th>0</th>\n",
       "      <td>M1A</td>\n",
       "      <td>Not assigned</td>\n",
       "      <td>Not assigned</td>\n",
       "    </tr>\n",
       "    <tr>\n",
       "      <th>1</th>\n",
       "      <td>M2A</td>\n",
       "      <td>Not assigned</td>\n",
       "      <td>Not assigned</td>\n",
       "    </tr>\n",
       "    <tr>\n",
       "      <th>2</th>\n",
       "      <td>M3A</td>\n",
       "      <td>North York</td>\n",
       "      <td>Parkwoods</td>\n",
       "    </tr>\n",
       "    <tr>\n",
       "      <th>3</th>\n",
       "      <td>M4A</td>\n",
       "      <td>North York</td>\n",
       "      <td>Victoria Village</td>\n",
       "    </tr>\n",
       "    <tr>\n",
       "      <th>4</th>\n",
       "      <td>M5A</td>\n",
       "      <td>Downtown Toronto</td>\n",
       "      <td>Regent Park, Harbourfront</td>\n",
       "    </tr>\n",
       "  </tbody>\n",
       "</table>\n",
       "</div>"
      ],
      "text/plain": [
       "  PostalCode           Borough               Neighborhood\n",
       "0        M1A      Not assigned               Not assigned\n",
       "1        M2A      Not assigned               Not assigned\n",
       "2        M3A        North York                  Parkwoods\n",
       "3        M4A        North York           Victoria Village\n",
       "4        M5A  Downtown Toronto  Regent Park, Harbourfront"
      ]
     },
     "execution_count": 5,
     "metadata": {},
     "output_type": "execute_result"
    }
   ],
   "source": [
    "df = pd.DataFrame({\"PostalCode\": postalCodeList,\n",
    "                           \"Borough\": boroughList,\n",
    "                           \"Neighborhood\": neighborhoodList})\n",
    "df.head()"
   ]
  },
  {
   "cell_type": "markdown",
   "metadata": {},
   "source": [
    "* we will Only process the cells that have an assigned borough.\n",
    "Ignore cells with a borough that is Not assigned."
   ]
  },
  {
   "cell_type": "code",
   "execution_count": 6,
   "metadata": {},
   "outputs": [
    {
     "data": {
      "text/html": [
       "<div>\n",
       "<style scoped>\n",
       "    .dataframe tbody tr th:only-of-type {\n",
       "        vertical-align: middle;\n",
       "    }\n",
       "\n",
       "    .dataframe tbody tr th {\n",
       "        vertical-align: top;\n",
       "    }\n",
       "\n",
       "    .dataframe thead th {\n",
       "        text-align: right;\n",
       "    }\n",
       "</style>\n",
       "<table border=\"1\" class=\"dataframe\">\n",
       "  <thead>\n",
       "    <tr style=\"text-align: right;\">\n",
       "      <th></th>\n",
       "      <th>PostalCode</th>\n",
       "      <th>Borough</th>\n",
       "      <th>Neighborhood</th>\n",
       "    </tr>\n",
       "  </thead>\n",
       "  <tbody>\n",
       "    <tr>\n",
       "      <th>0</th>\n",
       "      <td>M3A</td>\n",
       "      <td>North York</td>\n",
       "      <td>Parkwoods</td>\n",
       "    </tr>\n",
       "    <tr>\n",
       "      <th>1</th>\n",
       "      <td>M4A</td>\n",
       "      <td>North York</td>\n",
       "      <td>Victoria Village</td>\n",
       "    </tr>\n",
       "    <tr>\n",
       "      <th>2</th>\n",
       "      <td>M5A</td>\n",
       "      <td>Downtown Toronto</td>\n",
       "      <td>Regent Park, Harbourfront</td>\n",
       "    </tr>\n",
       "    <tr>\n",
       "      <th>3</th>\n",
       "      <td>M6A</td>\n",
       "      <td>North York</td>\n",
       "      <td>Lawrence Manor, Lawrence Heights</td>\n",
       "    </tr>\n",
       "    <tr>\n",
       "      <th>4</th>\n",
       "      <td>M7A</td>\n",
       "      <td>Downtown Toronto</td>\n",
       "      <td>Queen's Park, Ontario Provincial Government</td>\n",
       "    </tr>\n",
       "  </tbody>\n",
       "</table>\n",
       "</div>"
      ],
      "text/plain": [
       "  PostalCode           Borough                                 Neighborhood\n",
       "0        M3A        North York                                    Parkwoods\n",
       "1        M4A        North York                             Victoria Village\n",
       "2        M5A  Downtown Toronto                    Regent Park, Harbourfront\n",
       "3        M6A        North York             Lawrence Manor, Lawrence Heights\n",
       "4        M7A  Downtown Toronto  Queen's Park, Ontario Provincial Government"
      ]
     },
     "execution_count": 6,
     "metadata": {},
     "output_type": "execute_result"
    }
   ],
   "source": [
    "df = df[df.Borough != \"Not assigned\"].reset_index(drop=True)\n",
    "df.head()"
   ]
  },
  {
   "cell_type": "markdown",
   "metadata": {},
   "source": [
    "* More than one neighborhood can exist in one postal code area. These rows will be combined into one row with the neighborhoods separated with a comma"
   ]
  },
  {
   "cell_type": "code",
   "execution_count": 7,
   "metadata": {},
   "outputs": [
    {
     "data": {
      "text/html": [
       "<div>\n",
       "<style scoped>\n",
       "    .dataframe tbody tr th:only-of-type {\n",
       "        vertical-align: middle;\n",
       "    }\n",
       "\n",
       "    .dataframe tbody tr th {\n",
       "        vertical-align: top;\n",
       "    }\n",
       "\n",
       "    .dataframe thead th {\n",
       "        text-align: right;\n",
       "    }\n",
       "</style>\n",
       "<table border=\"1\" class=\"dataframe\">\n",
       "  <thead>\n",
       "    <tr style=\"text-align: right;\">\n",
       "      <th></th>\n",
       "      <th>PostalCode</th>\n",
       "      <th>Borough</th>\n",
       "      <th>Neighborhood</th>\n",
       "    </tr>\n",
       "  </thead>\n",
       "  <tbody>\n",
       "    <tr>\n",
       "      <th>0</th>\n",
       "      <td>M1B</td>\n",
       "      <td>Scarborough</td>\n",
       "      <td>Malvern, Rouge</td>\n",
       "    </tr>\n",
       "    <tr>\n",
       "      <th>1</th>\n",
       "      <td>M1C</td>\n",
       "      <td>Scarborough</td>\n",
       "      <td>Rouge Hill, Port Union, Highland Creek</td>\n",
       "    </tr>\n",
       "    <tr>\n",
       "      <th>2</th>\n",
       "      <td>M1E</td>\n",
       "      <td>Scarborough</td>\n",
       "      <td>Guildwood, Morningside, West Hill</td>\n",
       "    </tr>\n",
       "    <tr>\n",
       "      <th>3</th>\n",
       "      <td>M1G</td>\n",
       "      <td>Scarborough</td>\n",
       "      <td>Woburn</td>\n",
       "    </tr>\n",
       "    <tr>\n",
       "      <th>4</th>\n",
       "      <td>M1H</td>\n",
       "      <td>Scarborough</td>\n",
       "      <td>Cedarbrae</td>\n",
       "    </tr>\n",
       "  </tbody>\n",
       "</table>\n",
       "</div>"
      ],
      "text/plain": [
       "  PostalCode      Borough                            Neighborhood\n",
       "0        M1B  Scarborough                          Malvern, Rouge\n",
       "1        M1C  Scarborough  Rouge Hill, Port Union, Highland Creek\n",
       "2        M1E  Scarborough       Guildwood, Morningside, West Hill\n",
       "3        M1G  Scarborough                                  Woburn\n",
       "4        M1H  Scarborough                               Cedarbrae"
      ]
     },
     "execution_count": 7,
     "metadata": {},
     "output_type": "execute_result"
    }
   ],
   "source": [
    "df = df.groupby([\"PostalCode\", \"Borough\"], as_index=False).agg(lambda x: \", \".join(x))\n",
    "df.head()"
   ]
  },
  {
   "cell_type": "markdown",
   "metadata": {},
   "source": [
    "* If a cell has a borough but a Not assigned neighborhood, then the neighborhood will be the same as the borough."
   ]
  },
  {
   "cell_type": "code",
   "execution_count": 8,
   "metadata": {},
   "outputs": [
    {
     "data": {
      "text/html": [
       "<div>\n",
       "<style scoped>\n",
       "    .dataframe tbody tr th:only-of-type {\n",
       "        vertical-align: middle;\n",
       "    }\n",
       "\n",
       "    .dataframe tbody tr th {\n",
       "        vertical-align: top;\n",
       "    }\n",
       "\n",
       "    .dataframe thead th {\n",
       "        text-align: right;\n",
       "    }\n",
       "</style>\n",
       "<table border=\"1\" class=\"dataframe\">\n",
       "  <thead>\n",
       "    <tr style=\"text-align: right;\">\n",
       "      <th></th>\n",
       "      <th>PostalCode</th>\n",
       "      <th>Borough</th>\n",
       "      <th>Neighborhood</th>\n",
       "    </tr>\n",
       "  </thead>\n",
       "  <tbody>\n",
       "    <tr>\n",
       "      <th>0</th>\n",
       "      <td>M1B</td>\n",
       "      <td>Scarborough</td>\n",
       "      <td>Malvern, Rouge</td>\n",
       "    </tr>\n",
       "    <tr>\n",
       "      <th>1</th>\n",
       "      <td>M1C</td>\n",
       "      <td>Scarborough</td>\n",
       "      <td>Rouge Hill, Port Union, Highland Creek</td>\n",
       "    </tr>\n",
       "    <tr>\n",
       "      <th>2</th>\n",
       "      <td>M1E</td>\n",
       "      <td>Scarborough</td>\n",
       "      <td>Guildwood, Morningside, West Hill</td>\n",
       "    </tr>\n",
       "    <tr>\n",
       "      <th>3</th>\n",
       "      <td>M1G</td>\n",
       "      <td>Scarborough</td>\n",
       "      <td>Woburn</td>\n",
       "    </tr>\n",
       "    <tr>\n",
       "      <th>4</th>\n",
       "      <td>M1H</td>\n",
       "      <td>Scarborough</td>\n",
       "      <td>Cedarbrae</td>\n",
       "    </tr>\n",
       "  </tbody>\n",
       "</table>\n",
       "</div>"
      ],
      "text/plain": [
       "  PostalCode      Borough                            Neighborhood\n",
       "0        M1B  Scarborough                          Malvern, Rouge\n",
       "1        M1C  Scarborough  Rouge Hill, Port Union, Highland Creek\n",
       "2        M1E  Scarborough       Guildwood, Morningside, West Hill\n",
       "3        M1G  Scarborough                                  Woburn\n",
       "4        M1H  Scarborough                               Cedarbrae"
      ]
     },
     "execution_count": 8,
     "metadata": {},
     "output_type": "execute_result"
    }
   ],
   "source": [
    "for index, row in df.iterrows():\n",
    "    if row[\"Neighborhood\"] == \"Not assigned\":\n",
    "        row[\"Neighborhood\"] = row[\"Borough\"]\n",
    "        \n",
    "df.head()"
   ]
  },
  {
   "cell_type": "code",
   "execution_count": null,
   "metadata": {},
   "outputs": [],
   "source": []
  },
  {
   "cell_type": "code",
   "execution_count": 9,
   "metadata": {},
   "outputs": [
    {
     "data": {
      "text/plain": [
       "(103, 3)"
      ]
     },
     "execution_count": 9,
     "metadata": {},
     "output_type": "execute_result"
    }
   ],
   "source": [
    "df.shape"
   ]
  },
  {
   "cell_type": "code",
   "execution_count": 10,
   "metadata": {},
   "outputs": [
    {
     "data": {
      "text/html": [
       "<div>\n",
       "<style scoped>\n",
       "    .dataframe tbody tr th:only-of-type {\n",
       "        vertical-align: middle;\n",
       "    }\n",
       "\n",
       "    .dataframe tbody tr th {\n",
       "        vertical-align: top;\n",
       "    }\n",
       "\n",
       "    .dataframe thead th {\n",
       "        text-align: right;\n",
       "    }\n",
       "</style>\n",
       "<table border=\"1\" class=\"dataframe\">\n",
       "  <thead>\n",
       "    <tr style=\"text-align: right;\">\n",
       "      <th></th>\n",
       "      <th>Postal Code</th>\n",
       "      <th>Latitude</th>\n",
       "      <th>Longitude</th>\n",
       "    </tr>\n",
       "  </thead>\n",
       "  <tbody>\n",
       "    <tr>\n",
       "      <th>0</th>\n",
       "      <td>M1B</td>\n",
       "      <td>43.806686</td>\n",
       "      <td>-79.194353</td>\n",
       "    </tr>\n",
       "    <tr>\n",
       "      <th>1</th>\n",
       "      <td>M1C</td>\n",
       "      <td>43.784535</td>\n",
       "      <td>-79.160497</td>\n",
       "    </tr>\n",
       "    <tr>\n",
       "      <th>2</th>\n",
       "      <td>M1E</td>\n",
       "      <td>43.763573</td>\n",
       "      <td>-79.188711</td>\n",
       "    </tr>\n",
       "    <tr>\n",
       "      <th>3</th>\n",
       "      <td>M1G</td>\n",
       "      <td>43.770992</td>\n",
       "      <td>-79.216917</td>\n",
       "    </tr>\n",
       "    <tr>\n",
       "      <th>4</th>\n",
       "      <td>M1H</td>\n",
       "      <td>43.773136</td>\n",
       "      <td>-79.239476</td>\n",
       "    </tr>\n",
       "  </tbody>\n",
       "</table>\n",
       "</div>"
      ],
      "text/plain": [
       "  Postal Code   Latitude  Longitude\n",
       "0         M1B  43.806686 -79.194353\n",
       "1         M1C  43.784535 -79.160497\n",
       "2         M1E  43.763573 -79.188711\n",
       "3         M1G  43.770992 -79.216917\n",
       "4         M1H  43.773136 -79.239476"
      ]
     },
     "execution_count": 10,
     "metadata": {},
     "output_type": "execute_result"
    }
   ],
   "source": [
    "coordinates = pd.read_csv('https://cocl.us/Geospatial_data')\n",
    "coordinates.head()"
   ]
  },
  {
   "cell_type": "code",
   "execution_count": 11,
   "metadata": {},
   "outputs": [
    {
     "data": {
      "text/html": [
       "<div>\n",
       "<style scoped>\n",
       "    .dataframe tbody tr th:only-of-type {\n",
       "        vertical-align: middle;\n",
       "    }\n",
       "\n",
       "    .dataframe tbody tr th {\n",
       "        vertical-align: top;\n",
       "    }\n",
       "\n",
       "    .dataframe thead th {\n",
       "        text-align: right;\n",
       "    }\n",
       "</style>\n",
       "<table border=\"1\" class=\"dataframe\">\n",
       "  <thead>\n",
       "    <tr style=\"text-align: right;\">\n",
       "      <th></th>\n",
       "      <th>PostalCode</th>\n",
       "      <th>Latitude</th>\n",
       "      <th>Longitude</th>\n",
       "    </tr>\n",
       "  </thead>\n",
       "  <tbody>\n",
       "    <tr>\n",
       "      <th>0</th>\n",
       "      <td>M1B</td>\n",
       "      <td>43.806686</td>\n",
       "      <td>-79.194353</td>\n",
       "    </tr>\n",
       "    <tr>\n",
       "      <th>1</th>\n",
       "      <td>M1C</td>\n",
       "      <td>43.784535</td>\n",
       "      <td>-79.160497</td>\n",
       "    </tr>\n",
       "    <tr>\n",
       "      <th>2</th>\n",
       "      <td>M1E</td>\n",
       "      <td>43.763573</td>\n",
       "      <td>-79.188711</td>\n",
       "    </tr>\n",
       "    <tr>\n",
       "      <th>3</th>\n",
       "      <td>M1G</td>\n",
       "      <td>43.770992</td>\n",
       "      <td>-79.216917</td>\n",
       "    </tr>\n",
       "    <tr>\n",
       "      <th>4</th>\n",
       "      <td>M1H</td>\n",
       "      <td>43.773136</td>\n",
       "      <td>-79.239476</td>\n",
       "    </tr>\n",
       "  </tbody>\n",
       "</table>\n",
       "</div>"
      ],
      "text/plain": [
       "  PostalCode   Latitude  Longitude\n",
       "0        M1B  43.806686 -79.194353\n",
       "1        M1C  43.784535 -79.160497\n",
       "2        M1E  43.763573 -79.188711\n",
       "3        M1G  43.770992 -79.216917\n",
       "4        M1H  43.773136 -79.239476"
      ]
     },
     "execution_count": 11,
     "metadata": {},
     "output_type": "execute_result"
    }
   ],
   "source": [
    "coordinates.rename(columns={\"Postal Code\": \"PostalCode\"}, inplace=True)\n",
    "coordinates.head()"
   ]
  },
  {
   "cell_type": "code",
   "execution_count": 12,
   "metadata": {},
   "outputs": [
    {
     "data": {
      "text/html": [
       "<div>\n",
       "<style scoped>\n",
       "    .dataframe tbody tr th:only-of-type {\n",
       "        vertical-align: middle;\n",
       "    }\n",
       "\n",
       "    .dataframe tbody tr th {\n",
       "        vertical-align: top;\n",
       "    }\n",
       "\n",
       "    .dataframe thead th {\n",
       "        text-align: right;\n",
       "    }\n",
       "</style>\n",
       "<table border=\"1\" class=\"dataframe\">\n",
       "  <thead>\n",
       "    <tr style=\"text-align: right;\">\n",
       "      <th></th>\n",
       "      <th>PostalCode</th>\n",
       "      <th>Borough</th>\n",
       "      <th>Neighborhood</th>\n",
       "      <th>Latitude</th>\n",
       "      <th>Longitude</th>\n",
       "    </tr>\n",
       "  </thead>\n",
       "  <tbody>\n",
       "    <tr>\n",
       "      <th>0</th>\n",
       "      <td>M1B</td>\n",
       "      <td>Scarborough</td>\n",
       "      <td>Malvern, Rouge</td>\n",
       "      <td>43.806686</td>\n",
       "      <td>-79.194353</td>\n",
       "    </tr>\n",
       "    <tr>\n",
       "      <th>1</th>\n",
       "      <td>M1C</td>\n",
       "      <td>Scarborough</td>\n",
       "      <td>Rouge Hill, Port Union, Highland Creek</td>\n",
       "      <td>43.784535</td>\n",
       "      <td>-79.160497</td>\n",
       "    </tr>\n",
       "    <tr>\n",
       "      <th>2</th>\n",
       "      <td>M1E</td>\n",
       "      <td>Scarborough</td>\n",
       "      <td>Guildwood, Morningside, West Hill</td>\n",
       "      <td>43.763573</td>\n",
       "      <td>-79.188711</td>\n",
       "    </tr>\n",
       "    <tr>\n",
       "      <th>3</th>\n",
       "      <td>M1G</td>\n",
       "      <td>Scarborough</td>\n",
       "      <td>Woburn</td>\n",
       "      <td>43.770992</td>\n",
       "      <td>-79.216917</td>\n",
       "    </tr>\n",
       "    <tr>\n",
       "      <th>4</th>\n",
       "      <td>M1H</td>\n",
       "      <td>Scarborough</td>\n",
       "      <td>Cedarbrae</td>\n",
       "      <td>43.773136</td>\n",
       "      <td>-79.239476</td>\n",
       "    </tr>\n",
       "  </tbody>\n",
       "</table>\n",
       "</div>"
      ],
      "text/plain": [
       "  PostalCode      Borough                            Neighborhood   Latitude  \\\n",
       "0        M1B  Scarborough                          Malvern, Rouge  43.806686   \n",
       "1        M1C  Scarborough  Rouge Hill, Port Union, Highland Creek  43.784535   \n",
       "2        M1E  Scarborough       Guildwood, Morningside, West Hill  43.763573   \n",
       "3        M1G  Scarborough                                  Woburn  43.770992   \n",
       "4        M1H  Scarborough                               Cedarbrae  43.773136   \n",
       "\n",
       "   Longitude  \n",
       "0 -79.194353  \n",
       "1 -79.160497  \n",
       "2 -79.188711  \n",
       "3 -79.216917  \n",
       "4 -79.239476  "
      ]
     },
     "execution_count": 12,
     "metadata": {},
     "output_type": "execute_result"
    }
   ],
   "source": [
    "df_new = df.merge(coordinates, on=\"PostalCode\", how=\"left\")\n",
    "df_new.head()"
   ]
  },
  {
   "cell_type": "code",
   "execution_count": null,
   "metadata": {},
   "outputs": [],
   "source": []
  },
  {
   "cell_type": "code",
   "execution_count": 13,
   "metadata": {},
   "outputs": [
    {
     "name": "stdout",
     "output_type": "stream",
     "text": [
      "The geograpical coordinate of Toronto are 43.6534817, -79.3839347.\n"
     ]
    }
   ],
   "source": [
    "address = 'Toronto'\n",
    "\n",
    "geolocator = Nominatim(user_agent=\"http\")\n",
    "location = geolocator.geocode(address)\n",
    "latitude = location.latitude\n",
    "longitude = location.longitude\n",
    "print('The geograpical coordinate of Toronto are {}, {}.'.format(latitude, longitude))"
   ]
  },
  {
   "cell_type": "code",
   "execution_count": 14,
   "metadata": {},
   "outputs": [
    {
     "data": {
      "text/html": [
       "<div style=\"width:100%;\"><div style=\"position:relative;width:100%;height:0;padding-bottom:60%;\"><span style=\"color:#565656\">Make this Notebook Trusted to load map: File -> Trust Notebook</span><iframe src=\"about:blank\" style=\"position:absolute;width:100%;height:100%;left:0;top:0;border:none !important;\" data-html=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 onload=\"this.contentDocument.open();this.contentDocument.write(atob(this.getAttribute('data-html')));this.contentDocument.close();\" allowfullscreen webkitallowfullscreen mozallowfullscreen></iframe></div></div>"
      ],
      "text/plain": [
       "<folium.folium.Map at 0x64156a7160>"
      ]
     },
     "execution_count": 14,
     "metadata": {},
     "output_type": "execute_result"
    }
   ],
   "source": [
    "import folium\n",
    "map_toronto = folium.Map(location=[latitude, longitude], zoom_start=10)\n",
    "\n",
    "# add markers to map\n",
    "for lat, lng, borough, neighborhood in zip(df_new['Latitude'], df_new['Longitude'], df_new['Borough'], df_new['Neighborhood']):\n",
    "    label = '{}, {}'.format(neighborhood, borough)\n",
    "    label = folium.Popup(label, parse_html=True)\n",
    "    folium.CircleMarker(\n",
    "        [lat, lng],\n",
    "        radius=5,\n",
    "        popup=label,\n",
    "        color='blue',\n",
    "        fill=True,\n",
    "        fill_color='#3186cc',\n",
    "        fill_opacity=0.7).add_to(map_toronto)  \n",
    "    \n",
    "map_toronto"
   ]
  },
  {
   "cell_type": "markdown",
   "metadata": {},
   "source": [
    "Let's get the geographical coordinates of Etobicoke."
   ]
  },
  {
   "cell_type": "code",
   "execution_count": 18,
   "metadata": {},
   "outputs": [
    {
     "data": {
      "text/html": [
       "<div>\n",
       "<style scoped>\n",
       "    .dataframe tbody tr th:only-of-type {\n",
       "        vertical-align: middle;\n",
       "    }\n",
       "\n",
       "    .dataframe tbody tr th {\n",
       "        vertical-align: top;\n",
       "    }\n",
       "\n",
       "    .dataframe thead th {\n",
       "        text-align: right;\n",
       "    }\n",
       "</style>\n",
       "<table border=\"1\" class=\"dataframe\">\n",
       "  <thead>\n",
       "    <tr style=\"text-align: right;\">\n",
       "      <th></th>\n",
       "      <th>PostalCode</th>\n",
       "      <th>Borough</th>\n",
       "      <th>Neighborhood</th>\n",
       "      <th>Latitude</th>\n",
       "      <th>Longitude</th>\n",
       "    </tr>\n",
       "  </thead>\n",
       "  <tbody>\n",
       "    <tr>\n",
       "      <th>0</th>\n",
       "      <td>M8V</td>\n",
       "      <td>Etobicoke</td>\n",
       "      <td>New Toronto, Mimico South, Humber Bay Shores</td>\n",
       "      <td>43.605647</td>\n",
       "      <td>-79.501321</td>\n",
       "    </tr>\n",
       "    <tr>\n",
       "      <th>1</th>\n",
       "      <td>M8W</td>\n",
       "      <td>Etobicoke</td>\n",
       "      <td>Alderwood, Long Branch</td>\n",
       "      <td>43.602414</td>\n",
       "      <td>-79.543484</td>\n",
       "    </tr>\n",
       "    <tr>\n",
       "      <th>2</th>\n",
       "      <td>M8X</td>\n",
       "      <td>Etobicoke</td>\n",
       "      <td>The Kingsway, Montgomery Road, Old Mill North</td>\n",
       "      <td>43.653654</td>\n",
       "      <td>-79.506944</td>\n",
       "    </tr>\n",
       "    <tr>\n",
       "      <th>3</th>\n",
       "      <td>M8Y</td>\n",
       "      <td>Etobicoke</td>\n",
       "      <td>Old Mill South, King's Mill Park, Sunnylea, Hu...</td>\n",
       "      <td>43.636258</td>\n",
       "      <td>-79.498509</td>\n",
       "    </tr>\n",
       "    <tr>\n",
       "      <th>4</th>\n",
       "      <td>M8Z</td>\n",
       "      <td>Etobicoke</td>\n",
       "      <td>Mimico NW, The Queensway West, South of Bloor,...</td>\n",
       "      <td>43.628841</td>\n",
       "      <td>-79.520999</td>\n",
       "    </tr>\n",
       "  </tbody>\n",
       "</table>\n",
       "</div>"
      ],
      "text/plain": [
       "  PostalCode    Borough                                       Neighborhood  \\\n",
       "0        M8V  Etobicoke       New Toronto, Mimico South, Humber Bay Shores   \n",
       "1        M8W  Etobicoke                             Alderwood, Long Branch   \n",
       "2        M8X  Etobicoke      The Kingsway, Montgomery Road, Old Mill North   \n",
       "3        M8Y  Etobicoke  Old Mill South, King's Mill Park, Sunnylea, Hu...   \n",
       "4        M8Z  Etobicoke  Mimico NW, The Queensway West, South of Bloor,...   \n",
       "\n",
       "    Latitude  Longitude  \n",
       "0  43.605647 -79.501321  \n",
       "1  43.602414 -79.543484  \n",
       "2  43.653654 -79.506944  \n",
       "3  43.636258 -79.498509  \n",
       "4  43.628841 -79.520999  "
      ]
     },
     "execution_count": 18,
     "metadata": {},
     "output_type": "execute_result"
    }
   ],
   "source": [
    "Etobicoke_data = df_new[df_new['Borough'] == 'Etobicoke'].reset_index(drop=True)\n",
    "Etobicoke_data.head()"
   ]
  },
  {
   "cell_type": "code",
   "execution_count": 19,
   "metadata": {},
   "outputs": [
    {
     "name": "stdout",
     "output_type": "stream",
     "text": [
      "The geograpical coordinate of Manhattan are 43.6435559, -79.5656326.\n"
     ]
    }
   ],
   "source": [
    "address = 'Etobicoke'\n",
    "\n",
    "geolocator = Nominatim(user_agent=\"http\")\n",
    "location = geolocator.geocode(address)\n",
    "latitude = location.latitude\n",
    "longitude = location.longitude\n",
    "print('The geograpical coordinate of Manhattan are {}, {}.'.format(latitude, longitude))"
   ]
  },
  {
   "cell_type": "code",
   "execution_count": 21,
   "metadata": {},
   "outputs": [
    {
     "data": {
      "text/html": [
       "<div style=\"width:100%;\"><div style=\"position:relative;width:100%;height:0;padding-bottom:60%;\"><span style=\"color:#565656\">Make this Notebook Trusted to load map: File -> Trust Notebook</span><iframe src=\"about:blank\" style=\"position:absolute;width:100%;height:100%;left:0;top:0;border:none !important;\" data-html=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 onload=\"this.contentDocument.open();this.contentDocument.write(atob(this.getAttribute('data-html')));this.contentDocument.close();\" allowfullscreen webkitallowfullscreen mozallowfullscreen></iframe></div></div>"
      ],
      "text/plain": [
       "<folium.folium.Map at 0x640cd2b898>"
      ]
     },
     "execution_count": 21,
     "metadata": {},
     "output_type": "execute_result"
    }
   ],
   "source": [
    "# create map of Manhattan using latitude and longitude values\n",
    "map_manhattan = folium.Map(location=[latitude, longitude], zoom_start=11)\n",
    "\n",
    "# add markers to map\n",
    "for lat, lng, label in zip(Etobicoke_data['Latitude'], Etobicoke_data['Longitude'], Etobicoke_data['Neighborhood']):\n",
    "    label = folium.Popup(label, parse_html=True)\n",
    "    folium.CircleMarker(\n",
    "        [lat, lng],\n",
    "        radius=5,\n",
    "        popup=label,\n",
    "        color='blue',\n",
    "        fill=True,\n",
    "        fill_color='#3186cc',\n",
    "        fill_opacity=0.7,\n",
    "        parse_html=False).add_to(map_manhattan)  \n",
    "    \n",
    "map_manhattan"
   ]
  }
 ],
 "metadata": {
  "kernelspec": {
   "display_name": "Python 3",
   "language": "python",
   "name": "python3"
  },
  "language_info": {
   "codemirror_mode": {
    "name": "ipython",
    "version": 3
   },
   "file_extension": ".py",
   "mimetype": "text/x-python",
   "name": "python",
   "nbconvert_exporter": "python",
   "pygments_lexer": "ipython3",
   "version": "3.7.0"
  }
 },
 "nbformat": 4,
 "nbformat_minor": 2
}
